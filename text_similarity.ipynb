{
 "cells": [
  {
   "cell_type": "code",
   "execution_count": 72,
   "metadata": {},
   "outputs": [
    {
     "data": {
      "text/plain": [
       "22"
      ]
     },
     "execution_count": 72,
     "metadata": {},
     "output_type": "execute_result"
    }
   ],
   "source": [
    "import numpy as np\n",
    "import re\n",
    "from scipy.spatial.distance import pdist, cosine\n",
    "\n",
    "data_file = 'sentences.txt'\n",
    "with open(data_file, 'r') as sents:\n",
    "    corp = sents.readlines()\n",
    "len(corp)"
   ]
  },
  {
   "cell_type": "code",
   "execution_count": 73,
   "metadata": {},
   "outputs": [
    {
     "data": {
      "text/plain": [
       "484"
      ]
     },
     "execution_count": 73,
     "metadata": {},
     "output_type": "execute_result"
    }
   ],
   "source": [
    "coll = []\n",
    "for i, sent in enumerate(corp):\n",
    "    corp[i] = re.split('[^a-z]', sent.lower())\n",
    "    corp[i] = [x for x in corp[i] if len(x) > 0]\n",
    "    coll += corp[i]\n",
    "len(coll)"
   ]
  },
  {
   "cell_type": "code",
   "execution_count": 74,
   "metadata": {},
   "outputs": [
    {
     "name": "stdout",
     "output_type": "stream",
     "text": [
      "254\n"
     ]
    }
   ],
   "source": [
    "coll = set(coll)\n",
    "print(len(coll))"
   ]
  },
  {
   "cell_type": "code",
   "execution_count": 75,
   "metadata": {},
   "outputs": [],
   "source": [
    "words = list(coll)\n",
    "vocabulary = {}\n",
    "for w, word in enumerate(words):\n",
    "    vocabulary[word] = np.zeros((len(coll)), dtype=int)\n",
    "    vocabulary[word][w] = 1"
   ]
  },
  {
   "cell_type": "code",
   "execution_count": 76,
   "metadata": {},
   "outputs": [],
   "source": [
    "matrix = []\n",
    "distances = []\n",
    "for sent in corp:\n",
    "    bow = np.zeros((len(coll)), dtype=int)\n",
    "    for word in sent:\n",
    "        bow += vocabulary[word]\n",
    "    matrix.append(bow)\n",
    "    dist = cosine(bow, matrix[0])\n",
    "    distances.append(dist)\n",
    "matrix = np.array(matrix)\n",
    "matrix.shape\n",
    "distances = np.array(distances)"
   ]
  },
  {
   "cell_type": "code",
   "execution_count": 77,
   "metadata": {},
   "outputs": [
    {
     "name": "stdout",
     "output_type": "stream",
     "text": [
      "6 4\n",
      "0.7327387580875756 0.7770887149698589\n"
     ]
    }
   ],
   "source": [
    "distances_temp = distances.copy()\n",
    "distances_temp[0] = 1\n",
    "first_similar = np.argmin(distances_temp)\n",
    "distances_temp[first_similar] = 1\n",
    "second_similar = np.argmin(distances_temp)\n",
    "print(first_similar, second_similar)\n",
    "print(distances[first_similar], distances[second_similar])"
   ]
  },
  {
   "cell_type": "code",
   "execution_count": 69,
   "metadata": {},
   "outputs": [
    {
     "name": "stdout",
     "output_type": "stream",
     "text": [
      "['in', 'comparison', 'to', 'dogs', 'cats', 'have', 'not', 'undergone', 'major', 'changes', 'during', 'the', 'domestication', 'process']\n",
      "['domestic', 'cats', 'are', 'similar', 'in', 'size', 'to', 'the', 'other', 'members', 'of', 'the', 'genus', 'felis', 'typically', 'weighing', 'between', 'and', 'kg', 'and', 'lb']\n",
      "['in', 'one', 'people', 'deliberately', 'tamed', 'cats', 'in', 'a', 'process', 'of', 'artificial', 'selection', 'as', 'they', 'were', 'useful', 'predators', 'of', 'vermin']\n"
     ]
    }
   ],
   "source": [
    "print(corp[0])\n",
    "print(corp[first_similar])\n",
    "print(corp[second_similar])"
   ]
  },
  {
   "cell_type": "code",
   "execution_count": 70,
   "metadata": {},
   "outputs": [],
   "source": [
    "res_file = 'answer1.txt'\n",
    "with open(res_file, 'w') as wr_answ:\n",
    "    wr_answ.write(str(first_similar)+' '+str(second_similar))"
   ]
  },
  {
   "cell_type": "code",
   "execution_count": 71,
   "metadata": {},
   "outputs": [
    {
     "name": "stdout",
     "output_type": "stream",
     "text": [
      "6 4"
     ]
    }
   ],
   "source": [
    "!cat $res_file"
   ]
  },
  {
   "cell_type": "code",
   "execution_count": null,
   "metadata": {},
   "outputs": [],
   "source": []
  }
 ],
 "metadata": {
  "kernelspec": {
   "display_name": "Python 3",
   "language": "python",
   "name": "python3"
  },
  "language_info": {
   "codemirror_mode": {
    "name": "ipython",
    "version": 3
   },
   "file_extension": ".py",
   "mimetype": "text/x-python",
   "name": "python",
   "nbconvert_exporter": "python",
   "pygments_lexer": "ipython3",
   "version": "3.7.3"
  }
 },
 "nbformat": 4,
 "nbformat_minor": 2
}
